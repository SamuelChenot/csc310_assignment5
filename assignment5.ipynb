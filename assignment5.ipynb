{
 "cells": [
  {
   "cell_type": "code",
   "execution_count": 1,
   "metadata": {},
   "outputs": [],
   "source": [
    "import pandas as pd\n",
    "from treeviz import tree_print\n",
    "from sklearn import tree\n",
    "from sklearn.metrics import accuracy_score\n",
    "# sklearn provides manipulation of training sets...here we do train/test split\n",
    "from sklearn.model_selection import train_test_split\n",
    "from sklearn.model_selection import cross_val_score\n",
    "from sklearn.model_selection import GridSearchCV\n",
    "from sklearn.metrics import confusion_matrix\n",
    "from bootstrap import bootstrap"
   ]
  },
  {
   "cell_type": "code",
   "execution_count": 2,
   "metadata": {},
   "outputs": [],
   "source": [
    "df = pd.read_csv(\"transfusion.csv\")\n",
    "\n",
    "X = df.drop(['whether he/she donated blood in March 2007'], axis=1)\n",
    "y = df['whether he/she donated blood in March 2007']\n",
    "\n"
   ]
  },
  {
   "cell_type": "code",
   "execution_count": 4,
   "metadata": {},
   "outputs": [
    {
     "name": "stdout",
     "output_type": "stream",
     "text": [
      "Grid Search: best parameters: {'criterion': 'gini', 'max_depth': 3}\n",
      "if Recency (months) =< 4.5: \n",
      "  |then if Frequency (times) =< 4.5: \n",
      "  |  |then if Time (months) =< 2.5: \n",
      "  |  |  |then if Monetary (c.c. blood) =< 375.0: \n",
      "  |  |  |  |then 0\n",
      "  |  |  |  |else 0\n",
      "  |  |  |else if Time (months) =< 10.5: \n",
      "  |  |  |  |then if Recency (months) =< 3.5: \n",
      "  |  |  |  |  |then if Recency (months) =< 1.0: \n",
      "  |  |  |  |  |  |then 0\n",
      "  |  |  |  |  |  |else 1\n",
      "  |  |  |  |  |else if Frequency (times) =< 3.0: \n",
      "  |  |  |  |  |  |then 0\n",
      "  |  |  |  |  |  |else 1\n",
      "  |  |  |  |else if Time (months) =< 24.5: \n",
      "  |  |  |  |  |then if Time (months) =< 17.5: \n",
      "  |  |  |  |  |  |then 0\n",
      "  |  |  |  |  |  |else 0\n",
      "  |  |  |  |  |else if Time (months) =< 25.5: \n",
      "  |  |  |  |  |  |then 1\n",
      "  |  |  |  |  |  |else 0\n",
      "  |  |else if Time (months) =< 49.5: \n",
      "  |  |  |then if Monetary (c.c. blood) =< 3625.0: \n",
      "  |  |  |  |then if Time (months) =< 24.0: \n",
      "  |  |  |  |  |then if Frequency (times) =< 6.5: \n",
      "  |  |  |  |  |  |then 1\n",
      "  |  |  |  |  |  |else 1\n",
      "  |  |  |  |  |else if Monetary (c.c. blood) =< 1625.0: \n",
      "  |  |  |  |  |  |then 0\n",
      "  |  |  |  |  |  |else 1\n",
      "  |  |  |  |else 1\n",
      "  |  |  |else if Frequency (times) =< 10.5: \n",
      "  |  |  |  |then 0\n",
      "  |  |  |  |else if Frequency (times) =< 25.0: \n",
      "  |  |  |  |  |then if Time (months) =< 80.5: \n",
      "  |  |  |  |  |  |then 1\n",
      "  |  |  |  |  |  |else 0\n",
      "  |  |  |  |  |else if Frequency (times) =< 43.5: \n",
      "  |  |  |  |  |  |then 1\n",
      "  |  |  |  |  |  |else 0\n",
      "  |else if Recency (months) =< 22.5: \n",
      "  |  |then if Recency (months) =< 21.5: \n",
      "  |  |  |then if Frequency (times) =< 16.5: \n",
      "  |  |  |  |then if Recency (months) =< 7.5: \n",
      "  |  |  |  |  |then 0\n",
      "  |  |  |  |  |else if Monetary (c.c. blood) =< 3625.0: \n",
      "  |  |  |  |  |  |then 0\n",
      "  |  |  |  |  |  |else 0\n",
      "  |  |  |  |else if Monetary (c.c. blood) =< 5750.0: \n",
      "  |  |  |  |  |then if Recency (months) =< 12.5: \n",
      "  |  |  |  |  |  |then 1\n",
      "  |  |  |  |  |  |else 0\n",
      "  |  |  |  |  |else 0\n",
      "  |  |  |else 1\n",
      "  |  |else if Time (months) =< 49.5: \n",
      "  |  |  |then if Time (months) =< 47.5: \n",
      "  |  |  |  |then if Time (months) =< 24.5: \n",
      "  |  |  |  |  |then 0\n",
      "  |  |  |  |  |else 0\n",
      "  |  |  |  |else 1\n",
      "  |  |  |else 0\n",
      "<---------------->\n",
      "Tree Depth:  6\n",
      "Accuracy: 0.7954545454545454\n",
      "Confusion Matrix:\n",
      "    1    0\n",
      "1  72  106\n",
      "0  47  523\n",
      "Confidence interval best decision tree: (0.7128333333333334, 0.8336666666666668)\n"
     ]
    }
   ],
   "source": [
    "model = tree.DecisionTreeClassifier(criterion='entropy', max_depth=6)\n",
    "param_grid = {'max_depth': list(range(1,21)), 'criterion': ['entropy','gini'] }\n",
    "grid = GridSearchCV(model, param_grid, cv=5)\n",
    "grid.fit(X, y)\n",
    "X_train, X_test, y_train, y_test = train_test_split(X, y, train_size=0.8, test_size=0.2)\n",
    "model.fit(X_train, y_train)\n",
    "print(\"Grid Search: best parameters: {}\".format(grid.best_params_))\n",
    "best_model = grid.best_estimator_\n",
    "predict_y = best_model.predict(X)\n",
    "\n",
    "tree_print(model, df)\n",
    "\n",
    "print(\"Accuracy: {}\".format(accuracy_score(y, predict_y)))\n",
    "\n",
    "labels = [1, 0]\n",
    "cm = confusion_matrix(y, predict_y, labels=labels)\n",
    "cm_df = pd.DataFrame(cm, index=labels, columns=labels)\n",
    "print(\"Confusion Matrix:\\n{}\".format(cm_df))\n",
    "\n",
    "print(\"Confidence interval best decision tree: {}\".format(bootstrap(best_model,df,'whether he/she donated blood in March 2007')))"
   ]
  },
  {
   "cell_type": "code",
   "execution_count": null,
   "metadata": {},
   "outputs": [],
   "source": []
  },
  {
   "cell_type": "code",
   "execution_count": null,
   "metadata": {},
   "outputs": [],
   "source": []
  }
 ],
 "metadata": {
  "kernelspec": {
   "display_name": "Python 3",
   "language": "python",
   "name": "python3"
  },
  "language_info": {
   "codemirror_mode": {
    "name": "ipython",
    "version": 3
   },
   "file_extension": ".py",
   "mimetype": "text/x-python",
   "name": "python",
   "nbconvert_exporter": "python",
   "pygments_lexer": "ipython3",
   "version": "3.7.6"
  }
 },
 "nbformat": 4,
 "nbformat_minor": 4
}
